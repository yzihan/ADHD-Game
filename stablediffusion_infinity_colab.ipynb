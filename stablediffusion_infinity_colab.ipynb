{
  "nbformat": 4,
  "nbformat_minor": 0,
  "metadata": {
    "colab": {
      "provenance": []
    },
    "kernelspec": {
      "name": "python3",
      "display_name": "Python 3"
    },
    "language_info": {
      "name": "python"
    },
    "accelerator": "GPU"
  },
  "cells": [
    {
      "cell_type": "markdown",
      "source": [
        "# stablediffusion-infinity\n",
        "\n",
        "https://github.com/lkwq007/stablediffusion-infinity\n",
        "\n",
        "Outpainting with Stable Diffusion on an infinite canvas"
      ],
      "metadata": {
        "id": "IgN1jqV_DemW"
      }
    },
    {
      "cell_type": "code",
      "execution_count": 1,
      "metadata": {
        "id": "JvbfNNSJDTW5",
        "outputId": "85fbec59-91a8-4f44-ed6d-9f230c175b71",
        "colab": {
          "base_uri": "https://localhost:8080/"
        }
      },
      "outputs": [
        {
          "output_type": "stream",
          "name": "stdout",
          "text": [
            "GPU 0: Tesla T4 (UUID: GPU-7fffbc51-fb3e-0658-237e-7b3ed7b860b1)\n",
            "\u001b[2K     \u001b[90m━━━━━━━━━━━━━━━━━━━━━━━━━━━━━━━━━━━━━━\u001b[0m \u001b[32m524.9/524.9 KB\u001b[0m \u001b[31m10.0 MB/s\u001b[0m eta \u001b[36m0:00:00\u001b[0m\n",
            "\u001b[2K     \u001b[90m━━━━━━━━━━━━━━━━━━━━━━━━━━━━━━━━━━━━━━━━\u001b[0m \u001b[32m6.3/6.3 MB\u001b[0m \u001b[31m81.5 MB/s\u001b[0m eta \u001b[36m0:00:00\u001b[0m\n",
            "\u001b[2K     \u001b[90m━━━━━━━━━━━━━━━━━━━━━━━━━━━━━━━━━━━━━━━━\u001b[0m \u001b[32m53.1/53.1 KB\u001b[0m \u001b[31m7.1 MB/s\u001b[0m eta \u001b[36m0:00:00\u001b[0m\n",
            "\u001b[2K     \u001b[90m━━━━━━━━━━━━━━━━━━━━━━━━━━━━━━━━━━━━━━\u001b[0m \u001b[32m199.7/199.7 KB\u001b[0m \u001b[31m19.1 MB/s\u001b[0m eta \u001b[36m0:00:00\u001b[0m\n",
            "\u001b[2K     \u001b[90m━━━━━━━━━━━━━━━━━━━━━━━━━━━━━━━━━━━━━━\u001b[0m \u001b[32m190.3/190.3 KB\u001b[0m \u001b[31m24.6 MB/s\u001b[0m eta \u001b[36m0:00:00\u001b[0m\n",
            "\u001b[2K     \u001b[90m━━━━━━━━━━━━━━━━━━━━━━━━━━━━━━━━━━━━━━━━\u001b[0m \u001b[32m7.6/7.6 MB\u001b[0m \u001b[31m103.2 MB/s\u001b[0m eta \u001b[36m0:00:00\u001b[0m\n",
            "\u001b[2K     \u001b[90m━━━━━━━━━━━━━━━━━━━━━━━━━━━━━━━━━━━━━━━━\u001b[0m \u001b[32m11.6/11.6 MB\u001b[0m \u001b[31m81.8 MB/s\u001b[0m eta \u001b[36m0:00:00\u001b[0m\n",
            "\u001b[2K     \u001b[90m━━━━━━━━━━━━━━━━━━━━━━━━━━━━━━━━━━━━━━━━\u001b[0m \u001b[32m71.5/71.5 KB\u001b[0m \u001b[31m8.0 MB/s\u001b[0m eta \u001b[36m0:00:00\u001b[0m\n",
            "\u001b[2K     \u001b[90m━━━━━━━━━━━━━━━━━━━━━━━━━━━━━━━━━━━━━━\u001b[0m \u001b[32m210.8/210.8 KB\u001b[0m \u001b[31m26.4 MB/s\u001b[0m eta \u001b[36m0:00:00\u001b[0m\n",
            "\u001b[2K     \u001b[90m━━━━━━━━━━━━━━━━━━━━━━━━━━━━━━━━━━━━━━━━\u001b[0m \u001b[32m84.5/84.5 KB\u001b[0m \u001b[31m11.8 MB/s\u001b[0m eta \u001b[36m0:00:00\u001b[0m\n",
            "\u001b[?25h  Preparing metadata (setup.py) ... \u001b[?25l\u001b[?25hdone\n",
            "\u001b[2K     \u001b[90m━━━━━━━━━━━━━━━━━━━━━━━━━━━━━━━━━━━━━━━━\u001b[0m \u001b[32m56.2/56.2 KB\u001b[0m \u001b[31m7.6 MB/s\u001b[0m eta \u001b[36m0:00:00\u001b[0m\n",
            "\u001b[2K     \u001b[90m━━━━━━━━━━━━━━━━━━━━━━━━━━━━━━━━━━━━━━\u001b[0m \u001b[32m140.7/140.7 KB\u001b[0m \u001b[31m19.0 MB/s\u001b[0m eta \u001b[36m0:00:00\u001b[0m\n",
            "\u001b[2K     \u001b[90m━━━━━━━━━━━━━━━━━━━━━━━━━━━━━━━━━━━━━━\u001b[0m \u001b[32m107.0/107.0 KB\u001b[0m \u001b[31m14.6 MB/s\u001b[0m eta \u001b[36m0:00:00\u001b[0m\n",
            "\u001b[?25h  Preparing metadata (setup.py) ... \u001b[?25l\u001b[?25hdone\n",
            "\u001b[2K     \u001b[90m━━━━━━━━━━━━━━━━━━━━━━━━━━━━━━━━━━━━━━━━\u001b[0m \u001b[32m56.9/56.9 KB\u001b[0m \u001b[31m6.4 MB/s\u001b[0m eta \u001b[36m0:00:00\u001b[0m\n",
            "\u001b[2K     \u001b[90m━━━━━━━━━━━━━━━━━━━━━━━━━━━━━━━━━━━━━━━━\u001b[0m \u001b[32m2.1/2.1 MB\u001b[0m \u001b[31m62.4 MB/s\u001b[0m eta \u001b[36m0:00:00\u001b[0m\n",
            "\u001b[2K     \u001b[90m━━━━━━━━━━━━━━━━━━━━━━━━━━━━━━━━━━━━━━━━\u001b[0m \u001b[32m54.9/54.9 KB\u001b[0m \u001b[31m6.9 MB/s\u001b[0m eta \u001b[36m0:00:00\u001b[0m\n",
            "\u001b[2K     \u001b[90m━━━━━━━━━━━━━━━━━━━━━━━━━━━━━━━━━━━━━━━━\u001b[0m \u001b[32m66.4/66.4 KB\u001b[0m \u001b[31m8.1 MB/s\u001b[0m eta \u001b[36m0:00:00\u001b[0m\n",
            "\u001b[2K     \u001b[90m━━━━━━━━━━━━━━━━━━━━━━━━━━━━━━━━━━━━━━━━\u001b[0m \u001b[32m69.6/69.6 KB\u001b[0m \u001b[31m9.3 MB/s\u001b[0m eta \u001b[36m0:00:00\u001b[0m\n",
            "\u001b[2K     \u001b[90m━━━━━━━━━━━━━━━━━━━━━━━━━━━━━━━━━━━━━━━━\u001b[0m \u001b[32m52.1/52.1 KB\u001b[0m \u001b[31m7.1 MB/s\u001b[0m eta \u001b[36m0:00:00\u001b[0m\n",
            "\u001b[2K     \u001b[90m━━━━━━━━━━━━━━━━━━━━━━━━━━━━━━━━━━━━━━\u001b[0m \u001b[32m856.7/856.7 KB\u001b[0m \u001b[31m68.5 MB/s\u001b[0m eta \u001b[36m0:00:00\u001b[0m\n",
            "\u001b[2K     \u001b[90m━━━━━━━━━━━━━━━━━━━━━━━━━━━━━━━━━━━━━━━━\u001b[0m \u001b[32m4.2/4.2 MB\u001b[0m \u001b[31m107.6 MB/s\u001b[0m eta \u001b[36m0:00:00\u001b[0m\n",
            "\u001b[2K     \u001b[90m━━━━━━━━━━━━━━━━━━━━━━━━━━━━━━━━━━━━━━\u001b[0m \u001b[32m593.7/593.7 KB\u001b[0m \u001b[31m56.4 MB/s\u001b[0m eta \u001b[36m0:00:00\u001b[0m\n",
            "\u001b[2K     \u001b[90m━━━━━━━━━━━━━━━━━━━━━━━━━━━━━━━━━━━━━━━━\u001b[0m \u001b[32m80.6/80.6 KB\u001b[0m \u001b[31m11.0 MB/s\u001b[0m eta \u001b[36m0:00:00\u001b[0m\n",
            "\u001b[2K     \u001b[90m━━━━━━━━━━━━━━━━━━━━━━━━━━━━━━━━━━━━━━━━\u001b[0m \u001b[32m69.0/69.0 KB\u001b[0m \u001b[31m10.3 MB/s\u001b[0m eta \u001b[36m0:00:00\u001b[0m\n",
            "\u001b[2K     \u001b[90m━━━━━━━━━━━━━━━━━━━━━━━━━━━━━━━━━━━━━━━━\u001b[0m \u001b[32m68.7/68.7 KB\u001b[0m \u001b[31m9.8 MB/s\u001b[0m eta \u001b[36m0:00:00\u001b[0m\n",
            "\u001b[2K     \u001b[90m━━━━━━━━━━━━━━━━━━━━━━━━━━━━━━━━━━━━━━━━\u001b[0m \u001b[32m68.7/68.7 KB\u001b[0m \u001b[31m9.1 MB/s\u001b[0m eta \u001b[36m0:00:00\u001b[0m\n",
            "\u001b[2K     \u001b[90m━━━━━━━━━━━━━━━━━━━━━━━━━━━━━━━━━━━━━━━━\u001b[0m \u001b[32m68.4/68.4 KB\u001b[0m \u001b[31m9.4 MB/s\u001b[0m eta \u001b[36m0:00:00\u001b[0m\n",
            "\u001b[?25h  Building wheel for ffmpy (setup.py) ... \u001b[?25l\u001b[?25hdone\n",
            "  Building wheel for python-multipart (setup.py) ... \u001b[?25l\u001b[?25hdone\n",
            "  Preparing metadata (setup.py) ... \u001b[?25l\u001b[?25hdone\n",
            "\u001b[2K     \u001b[90m━━━━━━━━━━━━━━━━━━━━━━━━━━━━━━━━━━━━━━\u001b[0m \u001b[32m549.1/549.1 KB\u001b[0m \u001b[31m12.4 MB/s\u001b[0m eta \u001b[36m0:00:00\u001b[0m\n",
            "\u001b[2K     \u001b[90m━━━━━━━━━━━━━━━━━━━━━━━━━━━━━━━━━━━━━━━━\u001b[0m \u001b[32m32.7/32.7 MB\u001b[0m \u001b[31m14.8 MB/s\u001b[0m eta \u001b[36m0:00:00\u001b[0m\n",
            "\u001b[2K     \u001b[90m━━━━━━━━━━━━━━━━━━━━━━━━━━━━━━━━━━━━━━\u001b[0m \u001b[32m239.0/239.0 KB\u001b[0m \u001b[31m29.4 MB/s\u001b[0m eta \u001b[36m0:00:00\u001b[0m\n",
            "\u001b[2K     \u001b[90m━━━━━━━━━━━━━━━━━━━━━━━━━━━━━━━━━━━━━━━━\u001b[0m \u001b[32m1.1/1.1 MB\u001b[0m \u001b[31m45.4 MB/s\u001b[0m eta \u001b[36m0:00:00\u001b[0m\n",
            "\u001b[?25h  Building wheel for fpie (setup.py) ... \u001b[?25l\u001b[?25hdone\n",
            "\u001b[31mERROR: pip's dependency resolver does not currently take into account all the packages that are installed. This behaviour is the source of the following dependency conflicts.\n",
            "ipython 7.9.0 requires jedi>=0.10, which is not installed.\u001b[0m\u001b[31m\n",
            "\u001b[0mFound existing installation: taichi 1.4.1\n",
            "Uninstalling taichi-1.4.1:\n",
            "  Successfully uninstalled taichi-1.4.1\n"
          ]
        }
      ],
      "source": [
        "#@title setup libs\n",
        "!nvidia-smi -L\n",
        "!pip install -qq -U diffusers==0.11.1 transformers ftfy accelerate\n",
        "!pip install -q gradio==3.11.0\n",
        "!pip install -q fpie timm\n",
        "!pip uninstall taichi -y"
      ]
    },
    {
      "cell_type": "code",
      "source": [
        "#@title setup stablediffusion-infinity\n",
        "!git clone --recurse-submodules https://github.com/lkwq007/stablediffusion-infinity\n",
        "%cd stablediffusion-infinity\n",
        "!cp -r PyPatchMatch/csrc .\n",
        "!cp PyPatchMatch/Makefile .\n",
        "!cp PyPatchMatch/Makefile_fallback .\n",
        "!cp PyPatchMatch/travis.sh .\n",
        "!cp PyPatchMatch/patch_match.py . "
      ],
      "metadata": {
        "id": "D1BDhQCJDilE",
        "outputId": "75903f1f-2110-4ec2-d0a5-78452038b3d4",
        "colab": {
          "base_uri": "https://localhost:8080/"
        }
      },
      "execution_count": 2,
      "outputs": [
        {
          "output_type": "stream",
          "name": "stdout",
          "text": [
            "Cloning into 'stablediffusion-infinity'...\n",
            "remote: Enumerating objects: 981, done.\u001b[K\n",
            "remote: Total 981 (delta 0), reused 0 (delta 0), pack-reused 981\u001b[K\n",
            "Receiving objects: 100% (981/981), 17.05 MiB | 4.04 MiB/s, done.\n",
            "Resolving deltas: 100% (620/620), done.\n",
            "Submodule 'PyPatchMatch' (https://github.com/lkwq007/PyPatchMatch.git) registered for path 'PyPatchMatch'\n",
            "Submodule 'blip_model' (https://github.com/lkwq007/blip_model) registered for path 'blip_model'\n",
            "Submodule 'glid_3_xl_stable' (https://github.com/lkwq007/glid_3_xl_stable.git) registered for path 'glid_3_xl_stable'\n",
            "Submodule 'sd_grpcserver' (https://github.com/lkwq007/sd_grpcserver.git) registered for path 'sd_grpcserver'\n",
            "Cloning into '/content/stablediffusion-infinity/PyPatchMatch'...\n",
            "remote: Enumerating objects: 160, done.        \n",
            "remote: Counting objects: 100% (49/49), done.        \n",
            "remote: Compressing objects: 100% (14/14), done.        \n",
            "remote: Total 160 (delta 39), reused 35 (delta 35), pack-reused 111        \n",
            "Receiving objects: 100% (160/160), 1.05 MiB | 8.18 MiB/s, done.\n",
            "Resolving deltas: 100% (96/96), done.\n",
            "Cloning into '/content/stablediffusion-infinity/blip_model'...\n",
            "remote: Enumerating objects: 309, done.        \n",
            "remote: Total 309 (delta 0), reused 0 (delta 0), pack-reused 309        \n",
            "Receiving objects: 100% (309/309), 22.59 MiB | 27.70 MiB/s, done.\n",
            "Resolving deltas: 100% (169/169), done.\n",
            "Cloning into '/content/stablediffusion-infinity/glid_3_xl_stable'...\n",
            "remote: Enumerating objects: 262, done.        \n",
            "remote: Counting objects: 100% (262/262), done.        \n",
            "remote: Compressing objects: 100% (199/199), done.        \n",
            "remote: Total 262 (delta 89), reused 226 (delta 53), pack-reused 0        \n",
            "Receiving objects: 100% (262/262), 1.57 MiB | 11.08 MiB/s, done.\n",
            "Resolving deltas: 100% (89/89), done.\n",
            "Cloning into '/content/stablediffusion-infinity/sd_grpcserver'...\n",
            "remote: Enumerating objects: 430, done.        \n",
            "remote: Counting objects: 100% (227/227), done.        \n",
            "remote: Compressing objects: 100% (51/51), done.        \n",
            "remote: Total 430 (delta 201), reused 176 (delta 176), pack-reused 203        \n",
            "Receiving objects: 100% (430/430), 596.62 KiB | 5.19 MiB/s, done.\n",
            "Resolving deltas: 100% (284/284), done.\n",
            "Submodule path 'PyPatchMatch': checked out '0396a55825a1bb1043503dfa675dbf836b2fb3aa'\n",
            "Submodule path 'blip_model': checked out '32eb46a6467953d4eb6dcdab361371d45ee087c4'\n",
            "Submodule path 'glid_3_xl_stable': checked out '876ad08de244fbc46b108a29b53f3109c4ae89e9'\n",
            "Submodule path 'sd_grpcserver': checked out 'd512d0cbc314ff860ebbaa5f1be94c230d297946'\n",
            "Submodule 'api-interfaces' (https://github.com/Stability-AI/api-interfaces.git) registered for path 'sd_grpcserver/api-interfaces'\n",
            "Cloning into '/content/stablediffusion-infinity/sd_grpcserver/api-interfaces'...\n",
            "remote: Enumerating objects: 2826, done.        \n",
            "remote: Counting objects: 100% (922/922), done.        \n",
            "remote: Compressing objects: 100% (333/333), done.        \n",
            "remote: Total 2826 (delta 712), reused 742 (delta 580), pack-reused 1904        \n",
            "Receiving objects: 100% (2826/2826), 4.33 MiB | 15.66 MiB/s, done.\n",
            "Resolving deltas: 100% (1965/1965), done.\n",
            "Submodule path 'sd_grpcserver/api-interfaces': checked out 'c54bcef52d6c3ba190bf98cfc660454acce4abb3'\n",
            "/content/stablediffusion-infinity\n"
          ]
        }
      ]
    },
    {
      "cell_type": "code",
      "source": [
        "#@title start stablediffusion-infinity (first setup may takes about two minutes for downloading models)\n",
        "!python app.py --share"
      ],
      "metadata": {
        "id": "UGotC5ckDlmO",
        "outputId": "11b8eee4-193d-48fa-d113-0dd86dc5d0e0",
        "colab": {
          "base_uri": "https://localhost:8080/"
        }
      },
      "execution_count": null,
      "outputs": [
        {
          "output_type": "stream",
          "name": "stdout",
          "text": [
            "2023-02-21 17:56:35.098808: I tensorflow/core/platform/cpu_feature_guard.cc:193] This TensorFlow binary is optimized with oneAPI Deep Neural Network Library (oneDNN) to use the following CPU instructions in performance-critical operations:  AVX2 FMA\n",
            "To enable them in other operations, rebuild TensorFlow with the appropriate compiler flags.\n",
            "2023-02-21 17:56:36.175461: W tensorflow/compiler/xla/stream_executor/platform/default/dso_loader.cc:64] Could not load dynamic library 'libnvinfer.so.7'; dlerror: libnvinfer.so.7: cannot open shared object file: No such file or directory; LD_LIBRARY_PATH: /usr/lib64-nvidia\n",
            "2023-02-21 17:56:36.175577: W tensorflow/compiler/xla/stream_executor/platform/default/dso_loader.cc:64] Could not load dynamic library 'libnvinfer_plugin.so.7'; dlerror: libnvinfer_plugin.so.7: cannot open shared object file: No such file or directory; LD_LIBRARY_PATH: /usr/lib64-nvidia\n",
            "2023-02-21 17:56:36.175597: W tensorflow/compiler/tf2tensorrt/utils/py_utils.cc:38] TF-TRT Warning: Cannot dlopen some TensorRT libraries. If you would like to use Nvidia GPU with TensorRT, please make sure the missing libraries mentioned above are installed properly.\n",
            "Compiling and loading c extensions from \"/content/stablediffusion-infinity/PyPatchMatch\".\n",
            "mkdir: created directory 'build'\n",
            "mkdir: created directory 'build/obj'\n",
            "mkdir: created directory 'build/obj/csrc/'\n",
            "[dep] csrc/nnf.cpp ...\n",
            "[dep] csrc/pyinterface.cpp ...\n",
            "[dep] csrc/inpaint.cpp ...\n",
            "[dep] csrc/masked_image.cpp ...\n",
            "rm -rf build/obj libpatchmatch.so\n",
            "mkdir: created directory 'build/obj'\n",
            "mkdir: created directory 'build/obj/csrc/'\n",
            "[dep] csrc/nnf.cpp ...\n",
            "[dep] csrc/pyinterface.cpp ...\n",
            "[dep] csrc/inpaint.cpp ...\n",
            "[dep] csrc/masked_image.cpp ...\n",
            "[CC] csrc/masked_image.cpp ...\n",
            "[CC] csrc/inpaint.cpp ...\n",
            "[CC] csrc/pyinterface.cpp ...\n",
            "[CC] csrc/nnf.cpp ...\n",
            "[link] libpatchmatch.so ...\n",
            "---------------------------------------------------------\n",
            "Found 1 CUDA devices\n",
            "Device 0: Tesla T4\n",
            "   SMs:        40\n",
            "   Global mem: 15110 MB\n",
            "   CUDA Cap:   7.5\n",
            "---------------------------------------------------------\n",
            "[PIE]Successfully initialize PIE grid solver with cuda backend\n",
            "Running on local URL:  http://127.0.0.1:7860\n",
            "Running on public URL: https://0120dc66e80ae136.gradio.app\n",
            "\n",
            "This share link expires in 72 hours. For free permanent hosting and GPU upgrades (NEW!), check out Spaces: https://huggingface.co/spaces\n"
          ]
        }
      ]
    },
    {
      "cell_type": "code",
      "source": [],
      "metadata": {
        "id": "R1-E07CMFZoj"
      },
      "execution_count": null,
      "outputs": []
    }
  ]
}